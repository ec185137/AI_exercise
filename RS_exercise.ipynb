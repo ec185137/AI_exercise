{
 "cells": [
  {
   "cell_type": "markdown",
   "id": "faa98814-be99-4fcc-bf78-6e90046528f6",
   "metadata": {},
   "source": [
    "# Package installing"
   ]
  },
  {
   "cell_type": "code",
   "execution_count": 1,
   "id": "a44bf24a-5c31-413d-aa88-a07385d65c00",
   "metadata": {
    "collapsed": true,
    "jupyter": {
     "outputs_hidden": true
    },
    "tags": []
   },
   "outputs": [
    {
     "name": "stdout",
     "output_type": "stream",
     "text": [
      "Requirement already satisfied: numpy in /srv/conda/envs/notebook/lib/python3.10/site-packages (1.26.0)\n",
      "Collecting matplotlib\n",
      "  Downloading matplotlib-3.8.0-cp310-cp310-manylinux_2_17_x86_64.manylinux2014_x86_64.whl (11.6 MB)\n",
      "\u001b[2K     \u001b[90m━━━━━━━━━━━━━━━━━━━━━━━━━━━━━━━━━━━━━━━━\u001b[0m \u001b[32m11.6/11.6 MB\u001b[0m \u001b[31m6.7 MB/s\u001b[0m eta \u001b[36m0:00:00\u001b[0m00:01\u001b[0m00:01\u001b[0m\n",
      "\u001b[?25hCollecting contourpy>=1.0.1 (from matplotlib)\n",
      "  Downloading contourpy-1.1.1-cp310-cp310-manylinux_2_17_x86_64.manylinux2014_x86_64.whl (301 kB)\n",
      "\u001b[2K     \u001b[90m━━━━━━━━━━━━━━━━━━━━━━━━━━━━━━━━━━━━━━\u001b[0m \u001b[32m301.7/301.7 kB\u001b[0m \u001b[31m23.1 MB/s\u001b[0m eta \u001b[36m0:00:00\u001b[0m\n",
      "\u001b[?25hCollecting cycler>=0.10 (from matplotlib)\n",
      "  Downloading cycler-0.12.0-py3-none-any.whl (8.2 kB)\n",
      "Collecting fonttools>=4.22.0 (from matplotlib)\n",
      "  Downloading fonttools-4.43.0-cp310-cp310-manylinux_2_17_x86_64.manylinux2014_x86_64.whl (4.5 MB)\n",
      "\u001b[2K     \u001b[90m━━━━━━━━━━━━━━━━━━━━━━━━━━━━━━━━━━━━━━━━\u001b[0m \u001b[32m4.5/4.5 MB\u001b[0m \u001b[31m10.0 MB/s\u001b[0m eta \u001b[36m0:00:00\u001b[0m00:01\u001b[0m00:01\u001b[0m\n",
      "\u001b[?25hCollecting kiwisolver>=1.0.1 (from matplotlib)\n",
      "  Downloading kiwisolver-1.4.5-cp310-cp310-manylinux_2_12_x86_64.manylinux2010_x86_64.whl (1.6 MB)\n",
      "\u001b[2K     \u001b[90m━━━━━━━━━━━━━━━━━━━━━━━━━━━━━━━━━━━━━━━━\u001b[0m \u001b[32m1.6/1.6 MB\u001b[0m \u001b[31m12.1 MB/s\u001b[0m eta \u001b[36m0:00:00\u001b[0ma \u001b[36m0:00:01\u001b[0m\n",
      "\u001b[?25hRequirement already satisfied: numpy<2,>=1.21 in /srv/conda/envs/notebook/lib/python3.10/site-packages (from matplotlib) (1.26.0)\n",
      "Requirement already satisfied: packaging>=20.0 in /srv/conda/envs/notebook/lib/python3.10/site-packages (from matplotlib) (23.1)\n",
      "Collecting pillow>=6.2.0 (from matplotlib)\n",
      "  Downloading Pillow-10.0.1-cp310-cp310-manylinux_2_17_x86_64.manylinux2014_x86_64.whl (3.5 MB)\n",
      "\u001b[2K     \u001b[90m━━━━━━━━━━━━━━━━━━━━━━━━━━━━━━━━━━━━━━━━\u001b[0m \u001b[32m3.5/3.5 MB\u001b[0m \u001b[31m10.4 MB/s\u001b[0m eta \u001b[36m0:00:00\u001b[0m00:01\u001b[0m00:01\u001b[0m\n",
      "\u001b[?25hCollecting pyparsing>=2.3.1 (from matplotlib)\n",
      "  Downloading pyparsing-3.1.1-py3-none-any.whl (103 kB)\n",
      "\u001b[2K     \u001b[90m━━━━━━━━━━━━━━━━━━━━━━━━━━━━━━━━━━━━━━\u001b[0m \u001b[32m103.1/103.1 kB\u001b[0m \u001b[31m12.1 MB/s\u001b[0m eta \u001b[36m0:00:00\u001b[0m\n",
      "\u001b[?25hRequirement already satisfied: python-dateutil>=2.7 in /srv/conda/envs/notebook/lib/python3.10/site-packages (from matplotlib) (2.8.2)\n",
      "Requirement already satisfied: six>=1.5 in /srv/conda/envs/notebook/lib/python3.10/site-packages (from python-dateutil>=2.7->matplotlib) (1.16.0)\n",
      "Installing collected packages: pyparsing, pillow, kiwisolver, fonttools, cycler, contourpy, matplotlib\n",
      "Successfully installed contourpy-1.1.1 cycler-0.12.0 fonttools-4.43.0 kiwisolver-1.4.5 matplotlib-3.8.0 pillow-10.0.1 pyparsing-3.1.1\n"
     ]
    }
   ],
   "source": [
    "!pip install numpy\n",
    "!pip install matplotlib\n",
    "!pip install scikit-learn\n",
    "!pip install pandas"
   ]
  },
  {
   "cell_type": "markdown",
   "id": "7dc3395a-fc41-498b-a936-5dcb45c2a09c",
   "metadata": {},
   "source": [
    "# Imports"
   ]
  },
  {
   "cell_type": "code",
   "execution_count": 1,
   "id": "c8a7995e-2971-4450-8923-c0883edd77b3",
   "metadata": {
    "tags": []
   },
   "outputs": [],
   "source": [
    "import pandas as pd\n",
    "import numpy as np\n",
    "import matplotlib.pyplot as plt\n",
    "from sklearn.metrics import precision_score\n",
    "from sklearn.metrics import recall_score\n",
    "from sklearn.metrics import confusion_matrix\n",
    "from pathlib import Path"
   ]
  },
  {
   "cell_type": "markdown",
   "id": "89baf7f4-c23c-464c-bb48-8c1228155379",
   "metadata": {},
   "source": [
    "# Goal\n",
    "\n",
    "In this exercise, you will design and build a model to detect fraudulent activity according to a the data of one of NCR customers. The data contains transactions logs of a tenant in NCR Analytics. The data has already been processed to a format that is convenient to work with and is ready to be analyzed."
   ]
  },
  {
   "cell_type": "markdown",
   "id": "e5229fe3-41f3-43f0-96a9-72caff94be2f",
   "metadata": {},
   "source": [
    "# Data"
   ]
  },
  {
   "cell_type": "code",
   "execution_count": 3,
   "id": "a4877294-a19a-46da-879b-644855919feb",
   "metadata": {
    "tags": []
   },
   "outputs": [],
   "source": [
    "data = pd.read_csv(Path().parent.resolve().joinpath(\"besties_processed_data.csv\"))"
   ]
  },
  {
   "cell_type": "code",
   "execution_count": 4,
   "id": "1dd32362-2894-49a5-a3a1-ec3c3390bad2",
   "metadata": {
    "tags": []
   },
   "outputs": [
    {
     "data": {
      "text/html": [
       "<div>\n",
       "<style scoped>\n",
       "    .dataframe tbody tr th:only-of-type {\n",
       "        vertical-align: middle;\n",
       "    }\n",
       "\n",
       "    .dataframe tbody tr th {\n",
       "        vertical-align: top;\n",
       "    }\n",
       "\n",
       "    .dataframe thead th {\n",
       "        text-align: right;\n",
       "    }\n",
       "</style>\n",
       "<table border=\"1\" class=\"dataframe\">\n",
       "  <thead>\n",
       "    <tr style=\"text-align: right;\">\n",
       "      <th></th>\n",
       "      <th>TransactionId</th>\n",
       "      <th>Hour</th>\n",
       "      <th>VoidsAmount</th>\n",
       "      <th>IsVoidFollowedByDrawerOpen</th>\n",
       "      <th>IsVoided</th>\n",
       "      <th>IsReturn</th>\n",
       "      <th>IsReceiptReprinted</th>\n",
       "      <th>NonScannedItems</th>\n",
       "      <th>ManualOverrideAmount</th>\n",
       "      <th>ReturnsAmount</th>\n",
       "      <th>PriceLookupTrxTotalAmount</th>\n",
       "      <th>VoidedItemsAmount</th>\n",
       "      <th>DiscountAmount</th>\n",
       "      <th>IsTrainingMode</th>\n",
       "      <th>TotalAmount</th>\n",
       "      <th>ItemCount</th>\n",
       "      <th>StoreId</th>\n",
       "      <th>BusinessDate</th>\n",
       "      <th>MaxWeightToPriceRatioItemId</th>\n",
       "      <th>IsFraud</th>\n",
       "    </tr>\n",
       "  </thead>\n",
       "  <tbody>\n",
       "    <tr>\n",
       "      <th>0</th>\n",
       "      <td>tr1</td>\n",
       "      <td>12</td>\n",
       "      <td>0.0</td>\n",
       "      <td>False</td>\n",
       "      <td>False</td>\n",
       "      <td>False</td>\n",
       "      <td>False</td>\n",
       "      <td>1</td>\n",
       "      <td>0.0</td>\n",
       "      <td>0.00</td>\n",
       "      <td>0.0</td>\n",
       "      <td>0.0</td>\n",
       "      <td>0.0</td>\n",
       "      <td>False</td>\n",
       "      <td>13.70</td>\n",
       "      <td>6</td>\n",
       "      <td>32</td>\n",
       "      <td>09/05/2023</td>\n",
       "      <td>2.040000e+11</td>\n",
       "      <td>False</td>\n",
       "    </tr>\n",
       "    <tr>\n",
       "      <th>1</th>\n",
       "      <td>tr2</td>\n",
       "      <td>15</td>\n",
       "      <td>0.0</td>\n",
       "      <td>False</td>\n",
       "      <td>False</td>\n",
       "      <td>False</td>\n",
       "      <td>False</td>\n",
       "      <td>1</td>\n",
       "      <td>0.0</td>\n",
       "      <td>0.00</td>\n",
       "      <td>0.0</td>\n",
       "      <td>0.0</td>\n",
       "      <td>0.0</td>\n",
       "      <td>False</td>\n",
       "      <td>11.56</td>\n",
       "      <td>6</td>\n",
       "      <td>15</td>\n",
       "      <td>09/07/2023</td>\n",
       "      <td>2.070000e+11</td>\n",
       "      <td>False</td>\n",
       "    </tr>\n",
       "    <tr>\n",
       "      <th>2</th>\n",
       "      <td>tr3</td>\n",
       "      <td>15</td>\n",
       "      <td>0.0</td>\n",
       "      <td>False</td>\n",
       "      <td>False</td>\n",
       "      <td>True</td>\n",
       "      <td>False</td>\n",
       "      <td>1</td>\n",
       "      <td>1.0</td>\n",
       "      <td>4.49</td>\n",
       "      <td>0.0</td>\n",
       "      <td>0.0</td>\n",
       "      <td>0.0</td>\n",
       "      <td>False</td>\n",
       "      <td>581.41</td>\n",
       "      <td>6</td>\n",
       "      <td>7</td>\n",
       "      <td>09/04/2023</td>\n",
       "      <td>NaN</td>\n",
       "      <td>False</td>\n",
       "    </tr>\n",
       "    <tr>\n",
       "      <th>3</th>\n",
       "      <td>tr4</td>\n",
       "      <td>13</td>\n",
       "      <td>0.0</td>\n",
       "      <td>False</td>\n",
       "      <td>False</td>\n",
       "      <td>False</td>\n",
       "      <td>False</td>\n",
       "      <td>1</td>\n",
       "      <td>0.0</td>\n",
       "      <td>0.00</td>\n",
       "      <td>0.0</td>\n",
       "      <td>0.0</td>\n",
       "      <td>0.0</td>\n",
       "      <td>False</td>\n",
       "      <td>16.31</td>\n",
       "      <td>8</td>\n",
       "      <td>10</td>\n",
       "      <td>09/04/2023</td>\n",
       "      <td>2.030000e+11</td>\n",
       "      <td>False</td>\n",
       "    </tr>\n",
       "    <tr>\n",
       "      <th>4</th>\n",
       "      <td>tr5</td>\n",
       "      <td>12</td>\n",
       "      <td>0.0</td>\n",
       "      <td>False</td>\n",
       "      <td>False</td>\n",
       "      <td>False</td>\n",
       "      <td>False</td>\n",
       "      <td>1</td>\n",
       "      <td>0.0</td>\n",
       "      <td>0.00</td>\n",
       "      <td>0.0</td>\n",
       "      <td>0.0</td>\n",
       "      <td>0.0</td>\n",
       "      <td>False</td>\n",
       "      <td>16.24</td>\n",
       "      <td>8</td>\n",
       "      <td>16</td>\n",
       "      <td>09/06/2023</td>\n",
       "      <td>2.030000e+11</td>\n",
       "      <td>False</td>\n",
       "    </tr>\n",
       "  </tbody>\n",
       "</table>\n",
       "</div>"
      ],
      "text/plain": [
       "  TransactionId  Hour  VoidsAmount  IsVoidFollowedByDrawerOpen  IsVoided  \\\n",
       "0           tr1    12          0.0                       False     False   \n",
       "1           tr2    15          0.0                       False     False   \n",
       "2           tr3    15          0.0                       False     False   \n",
       "3           tr4    13          0.0                       False     False   \n",
       "4           tr5    12          0.0                       False     False   \n",
       "\n",
       "   IsReturn  IsReceiptReprinted  NonScannedItems  ManualOverrideAmount  \\\n",
       "0     False               False                1                   0.0   \n",
       "1     False               False                1                   0.0   \n",
       "2      True               False                1                   1.0   \n",
       "3     False               False                1                   0.0   \n",
       "4     False               False                1                   0.0   \n",
       "\n",
       "   ReturnsAmount  PriceLookupTrxTotalAmount  VoidedItemsAmount  \\\n",
       "0           0.00                        0.0                0.0   \n",
       "1           0.00                        0.0                0.0   \n",
       "2           4.49                        0.0                0.0   \n",
       "3           0.00                        0.0                0.0   \n",
       "4           0.00                        0.0                0.0   \n",
       "\n",
       "   DiscountAmount  IsTrainingMode  TotalAmount  ItemCount  StoreId  \\\n",
       "0             0.0           False        13.70          6       32   \n",
       "1             0.0           False        11.56          6       15   \n",
       "2             0.0           False       581.41          6        7   \n",
       "3             0.0           False        16.31          8       10   \n",
       "4             0.0           False        16.24          8       16   \n",
       "\n",
       "  BusinessDate  MaxWeightToPriceRatioItemId  IsFraud  \n",
       "0   09/05/2023                 2.040000e+11    False  \n",
       "1   09/07/2023                 2.070000e+11    False  \n",
       "2   09/04/2023                          NaN    False  \n",
       "3   09/04/2023                 2.030000e+11    False  \n",
       "4   09/06/2023                 2.030000e+11    False  "
      ]
     },
     "execution_count": 4,
     "metadata": {},
     "output_type": "execute_result"
    }
   ],
   "source": [
    "data.head()"
   ]
  },
  {
   "cell_type": "markdown",
   "id": "c6645b5c-f691-4497-aa3f-2a60dc49228e",
   "metadata": {
    "tags": []
   },
   "source": [
    "# Tasks"
   ]
  },
  {
   "cell_type": "markdown",
   "id": "778ef9c5-6deb-4bde-bec7-78c4d1f59ee1",
   "metadata": {
    "tags": []
   },
   "source": [
    "### Task 1\n",
    "Explore the label column “IsFraud”. \n",
    "\n",
    "How many fraudulent transactions are there in the data? What is the percentage of fraudulent transactions?"
   ]
  },
  {
   "cell_type": "code",
   "execution_count": null,
   "id": "980da722-aece-49cc-95e8-dfa6ecb3c29c",
   "metadata": {},
   "outputs": [],
   "source": []
  },
  {
   "cell_type": "markdown",
   "id": "098c664a-6d32-4b88-8004-240a4a85cd0c",
   "metadata": {
    "tags": []
   },
   "source": [
    "### Task 2\n",
    "Analyze each of the data columns with respect to the label: does higher values indicate fraudulent activity? Try sorting the table by each column independently and create graphs to cross each column with the label. Note that some columns might correlate with the label only for some value range, so you can use the filters to control that."
   ]
  },
  {
   "cell_type": "code",
   "execution_count": null,
   "id": "385f90f0-ba89-4930-9ae4-d25428d17b05",
   "metadata": {},
   "outputs": [],
   "source": []
  },
  {
   "cell_type": "markdown",
   "id": "a61bc878-a310-4e79-a6e9-92f109e8cfc8",
   "metadata": {},
   "source": [
    "### Task 3\n",
    "In the given data, the loss prevention teams in the stores marked each transaction as fraudulent or not after a long investigation. However, in most cases the label is unknown. We aim to help the loss prevention team by devising a model that predicts if the transaction is fraudulent according to the given metrics.\n",
    "\n",
    "Use the data to devise a one-feature model: select an arbitrary column, select a rule according to which a transaction will be defined as fraudulent or not in the case that the label was not given.\n",
    "For example, “voids amount” ≥ $300  à  IsFraud=True.\n",
    "We’ll refer to the predicted label as the prediction and to the original label column as the observed.\n"
   ]
  },
  {
   "cell_type": "code",
   "execution_count": null,
   "id": "a91db730-a8a1-4ed0-be9b-0d080ee435e5",
   "metadata": {},
   "outputs": [],
   "source": []
  },
  {
   "cell_type": "markdown",
   "id": "2d62d185-6e19-4860-880f-f30db294d81c",
   "metadata": {},
   "source": [
    "## Task 4\n",
    "Design the accuracy metric and measure the performance of the one-feature models that you developed: how many of the predictions were accurate? Compute the percentage of the predicted labels that match the observed labels.\n",
    "The accuracy metric measures the percentage of perfect “hits” that your model achieved. What can be the problem with the accuracy metric for the investigated data? Which kinds of data or labels is it good for? (if you didn’t succeed answering this question, see answer* in the end of this file).\n"
   ]
  },
  {
   "cell_type": "code",
   "execution_count": null,
   "id": "3928d10c-f32e-4541-811e-9ce9e1b9c097",
   "metadata": {},
   "outputs": [],
   "source": []
  },
  {
   "cell_type": "markdown",
   "id": "b3507373-8d73-4579-8697-97a4774935e2",
   "metadata": {},
   "source": [
    "## Task 5\n",
    "Compute the precision and recall metrics:\n",
    "* Precision: out of the samples that your model predicted to be True, how many were indeed positive (the observed value)?\n",
    "* Recall: out of the positive labels (the observed value), how many did your model predicted to be True?\n",
    "\n",
    "You can directly use the precision_score and recall_score that have been imported"
   ]
  },
  {
   "cell_type": "code",
   "execution_count": null,
   "id": "68271f22-bbf6-42be-8101-d8b9ab88e4de",
   "metadata": {},
   "outputs": [],
   "source": []
  },
  {
   "cell_type": "markdown",
   "id": "b5875a9e-eaa2-4430-82d3-f073158ea657",
   "metadata": {},
   "source": [
    "## Task 6\n",
    "\n",
    "Now that you have the accuracy, precision, and recall metrics, repeat tasks (3-5) for every other column: develop a single-feature model and compute the performance metrics for the created models. Which single feature best predicts the label? Account for the meaning of the different performance metrics."
   ]
  },
  {
   "cell_type": "code",
   "execution_count": null,
   "id": "e4f66d69-263e-4f12-8d82-3ea9bd539b5b",
   "metadata": {},
   "outputs": [],
   "source": []
  },
  {
   "cell_type": "markdown",
   "id": "431e4825-d1d5-4a54-8fa6-afe625b96ead",
   "metadata": {},
   "source": [
    "## Task 7\n",
    "Which of the columns do you think should be combined to detect a fraudulent activity? (e.g., high voids amount and also high total manual override)."
   ]
  },
  {
   "cell_type": "code",
   "execution_count": null,
   "id": "e8b0b403-f247-42e9-9c07-28ed045cd4e8",
   "metadata": {},
   "outputs": [],
   "source": []
  },
  {
   "cell_type": "markdown",
   "id": "29046738-5b60-4979-9b09-9abcc2852bd1",
   "metadata": {},
   "source": [
    "## Task 8\n",
    "Now, let's delve into machine learning modeling!\n",
    "<ol>\n",
    "  <li>Segment the data into two categories: features and labels.</li>\n",
    "    <p>Features encompass the data utilized for prediction, which could include all columns except for the \"IsFraud\" column or a selected subset.</p>\n",
    "    <p>Labels represent what you aim to predict, in this instance, the \"IsFraud\" column.</p>\n",
    "  <li>Apply machine learning to the dataset.</li>\n",
    "    <p>Train the machine learning algorithm, for example, a Random Forest Classifier (see the link below) </p>\n",
    "    <p>Utilize your trained model to predict the \"IsFraud\" column.</p>\n",
    "  <li>Calculate various metrics.</li>\n",
    "    <p>Compute the Confusion Matrix (see links below).</p>\n",
    "    <p>Calculate metrics you have already employed, such as precision and recall.</p>\n",
    "</ol>\n",
    "\n",
    "Feel free to repeat these procedures with a subset of the data and examine the outcomes. Is it imperative to use all the data to predict the label?\n",
    "\n",
    "Some useful links:\n",
    "\n",
    "* [Radom Forest Classifier](https://scikit-learn.org/stable/modules/generated/sklearn.ensemble.RandomForestClassifier.html)\n",
    "* [Understanding the confusion Matrix](https://towardsdatascience.com/understanding-confusion-matrix-a9ad42dcfd62)\n",
    "* [Confusion Matrix Implementation](https://scikit-learn.org/stable/modules/generated/sklearn.metrics.confusion_matrix.html)"
   ]
  },
  {
   "cell_type": "code",
   "execution_count": null,
   "id": "8a75b838-b811-44cc-8042-c23a85aefc21",
   "metadata": {},
   "outputs": [],
   "source": []
  }
 ],
 "metadata": {
  "kernelspec": {
   "display_name": "Python 3 (ipykernel)",
   "language": "python",
   "name": "python3"
  },
  "language_info": {
   "codemirror_mode": {
    "name": "ipython",
    "version": 3
   },
   "file_extension": ".py",
   "mimetype": "text/x-python",
   "name": "python",
   "nbconvert_exporter": "python",
   "pygments_lexer": "ipython3",
   "version": "3.8.10"
  }
 },
 "nbformat": 4,
 "nbformat_minor": 5
}
